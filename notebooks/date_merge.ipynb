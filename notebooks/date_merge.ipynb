{
 "cells": [
  {
   "cell_type": "code",
   "execution_count": 18,
   "metadata": {},
   "outputs": [],
   "source": [
    "import pandas as pd\n",
    "import numpy as np\n",
    "from clickhouse_driver import Client"
   ]
  },
  {
   "cell_type": "code",
   "execution_count": 22,
   "metadata": {},
   "outputs": [],
   "source": [
    "# macro database information, do not change\n",
    "host_name = 'chenlin01.fbe.hku.hk'\n",
    "user_name = 'mfin7037_best_students'\n",
    "pswd = '' # input password\n",
    "db_name = 'tiingo'\n",
    "port = 9000"
   ]
  },
  {
   "cell_type": "code",
   "execution_count": 23,
   "metadata": {},
   "outputs": [],
   "source": [
    "client = Client(\n",
    "    host=host_name,\n",
    "    user=user_name,\n",
    "    password=pswd,\n",
    "    database=db_name,\n",
    "    port=port,\n",
    ")"
   ]
  },
  {
   "cell_type": "code",
   "execution_count": 24,
   "metadata": {},
   "outputs": [],
   "source": [
    "client.execute('USE tiingo')\n",
    "result = client.execute('''SELECT\n",
    "    id,\n",
    "    publishedDate,\n",
    "    tickers_all\n",
    "    FROM news\n",
    "    where tickers_all != ''\n",
    "    Order by publishedDate DESC\n",
    "    LIMIT 5''')"
   ]
  },
  {
   "cell_type": "code",
   "execution_count": null,
   "metadata": {},
   "outputs": [],
   "source": [
    "df = pd.DataFrame(result, columns=['id', 'publishedDate', 'tickers_all'])\n",
    "df.to_parquet('output.parquet', engine='pyarrow')"
   ]
  },
  {
   "cell_type": "code",
   "execution_count": null,
   "metadata": {},
   "outputs": [],
   "source": []
  }
 ],
 "metadata": {
  "kernelspec": {
   "display_name": "finbert",
   "language": "python",
   "name": "python3"
  },
  "language_info": {
   "codemirror_mode": {
    "name": "ipython",
    "version": 3
   },
   "file_extension": ".py",
   "mimetype": "text/x-python",
   "name": "python",
   "nbconvert_exporter": "python",
   "pygments_lexer": "ipython3",
   "version": "3.12.9"
  }
 },
 "nbformat": 4,
 "nbformat_minor": 2
}
