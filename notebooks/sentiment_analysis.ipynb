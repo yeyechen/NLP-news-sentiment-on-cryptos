{
 "cells": [
  {
   "cell_type": "markdown",
   "metadata": {},
   "source": [
    "### Sentiment Analysis"
   ]
  },
  {
   "cell_type": "markdown",
   "metadata": {},
   "source": [
    "#### 1. Connect to the server"
   ]
  },
  {
   "cell_type": "code",
   "execution_count": 15,
   "metadata": {},
   "outputs": [],
   "source": [
    "import pandas as pd\n",
    "import numpy as np\n",
    "from clickhouse_driver import Client"
   ]
  },
  {
   "cell_type": "code",
   "execution_count": 16,
   "metadata": {},
   "outputs": [],
   "source": [
    "# macro database information, do not change\n",
    "host_name = 'chenlin01.fbe.hku.hk'\n",
    "user_name = 'mfin7037_best_students'\n",
    "pswd = 'alanisthecoolest123'\n",
    "db_name = 'tiingo'\n",
    "port = 9000"
   ]
  },
  {
   "cell_type": "code",
   "execution_count": 17,
   "metadata": {},
   "outputs": [],
   "source": [
    "client = Client(\n",
    "    host=host_name,\n",
    "    user=user_name,\n",
    "    password=pswd,\n",
    "    database=db_name,\n",
    "    port=port,\n",
    ")"
   ]
  },
  {
   "cell_type": "code",
   "execution_count": 20,
   "metadata": {},
   "outputs": [
    {
     "data": {
      "text/plain": [
       "[('default',), ('tiingo',)]"
      ]
     },
     "execution_count": 20,
     "metadata": {},
     "output_type": "execute_result"
    }
   ],
   "source": [
    "client.execute('SHOW DATABASES')"
   ]
  },
  {
   "cell_type": "code",
   "execution_count": 22,
   "metadata": {},
   "outputs": [
    {
     "data": {
      "text/plain": [
       "[('news',)]"
      ]
     },
     "execution_count": 22,
     "metadata": {},
     "output_type": "execute_result"
    }
   ],
   "source": [
    "client.execute('SHOW TABLES')"
   ]
  },
  {
   "cell_type": "code",
   "execution_count": 27,
   "metadata": {},
   "outputs": [
    {
     "data": {
      "text/plain": [
       "[('2018-05-02T12:14:50.841934+00:00',\n",
       "  'Yamana Gold Inc. (NYSE:AUY) shares are down more than -8.65% this year and recently decreased -0.70% or -$0.02 to settle at $2.85. SM Energy Company (NYSE:SM), on the other hand, is up 6.61% year to date as of 05/01/2018. It currently trades at $23.54 and has returned 3.11% during the past week. Yamana Gold Inc.…',\n",
       "  10471811.0,\n",
       "  '2018-05-02T11:06:33+00:00',\n",
       "  'stocknewsgazette.com',\n",
       "  'Energy/Materials/Stock',\n",
       "  'sm',\n",
       "  'auy/sm',\n",
       "  'Yamana Gold Inc. (AUY) vs. SM Energy Company (SM): Which is the Better Investment?',\n",
       "  'stocknewsgazette.com',\n",
       "  'https://stocknewsgazette.com/2018/05/02/yamana-gold-inc-auy-vs-sm-energy-company-sm-which-is-the-better-investment/'),\n",
       " ('2018-05-02T12:15:20.345795+00:00',\n",
       "  'AGNC Investment Corp. (NASDAQ:AGNC) shares are down more than -6.59% this year and recently decreased -0.32% or -$0.06 to settle at $18.86. B2Gold Corp. (NYSE:BTG), on the other hand, is down -9.03% year to date as of 05/01/2018. It currently trades at $2.82 and has returned -1.05% during the past week. AGNC Investment Corp. (NASDAQ:AGNC)…',\n",
       "  10471825.0,\n",
       "  '2018-05-02T11:00:01+00:00',\n",
       "  'stocknewsgazette.com',\n",
       "  'Financials/Materials/Stock',\n",
       "  'agnc',\n",
       "  'agnc/btg',\n",
       "  'AGNC Investment Corp. (AGNC) vs. B2Gold Corp. (BTG): Breaking Down the REIT - Residential Industry’s Two Hottest Stocks',\n",
       "  'stocknewsgazette.com',\n",
       "  'https://stocknewsgazette.com/2018/05/02/agnc-investment-corp-agnc-vs-b2gold-corp-btg-breaking-down-the-reit-residential-industrys-two-hottest-stocks/')]"
      ]
     },
     "execution_count": 27,
     "metadata": {},
     "output_type": "execute_result"
    }
   ],
   "source": [
    "client.execute('USE tiingo')\n",
    "client.execute('SELECT * FROM news limit 2')"
   ]
  },
  {
   "cell_type": "code",
   "execution_count": null,
   "metadata": {},
   "outputs": [],
   "source": []
  }
 ],
 "metadata": {
  "kernelspec": {
   "display_name": "Python 3",
   "language": "python",
   "name": "python3"
  },
  "language_info": {
   "codemirror_mode": {
    "name": "ipython",
    "version": 3
   },
   "file_extension": ".py",
   "mimetype": "text/x-python",
   "name": "python",
   "nbconvert_exporter": "python",
   "pygments_lexer": "ipython3",
   "version": "3.9.21"
  }
 },
 "nbformat": 4,
 "nbformat_minor": 2
}
