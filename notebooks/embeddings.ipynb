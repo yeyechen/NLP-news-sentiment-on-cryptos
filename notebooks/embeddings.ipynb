{
 "cells": [
  {
   "cell_type": "markdown",
   "id": "436b5610",
   "metadata": {},
   "source": [
    "# Perform Textual Embedding"
   ]
  },
  {
   "cell_type": "markdown",
   "id": "237092cf",
   "metadata": {},
   "source": [
    "## Loading Credentials"
   ]
  },
  {
   "cell_type": "code",
   "execution_count": 2,
   "id": "7e631089",
   "metadata": {},
   "outputs": [],
   "source": [
    "import json\n",
    "\n",
    "with open('credentials.json', 'r') as file:\n",
    "    credentials = json.load(file)\n",
    "\n",
    "db_server_name = credentials['clickhouse']['server_name']\n",
    "db_username = credentials['clickhouse']['username']\n",
    "db_password = credentials['clickhouse']['password']"
   ]
  },
  {
   "cell_type": "markdown",
   "id": "61170790",
   "metadata": {},
   "source": [
    "## Test Connection"
   ]
  },
  {
   "cell_type": "code",
   "execution_count": 51,
   "id": "fa1984ac",
   "metadata": {},
   "outputs": [
    {
     "name": "stdout",
     "output_type": "stream",
     "text": [
      "Connected to ClickHouse server. Version: 25.4.1.1926\n"
     ]
    }
   ],
   "source": [
    "from clickhouse_driver import Client\n",
    "\n",
    "client = Client(host=db_server_name, user=db_username, password=db_password)\n",
    "\n",
    "try:\n",
    "    result = client.execute('SELECT version()')\n",
    "    print(\"Connected to ClickHouse server. Version:\", result[0][0])\n",
    "except Exception as e:\n",
    "    print(\"Failed to connect to ClickHouse server:\", e)"
   ]
  },
  {
   "cell_type": "code",
   "execution_count": 53,
   "id": "c4e1e4b7",
   "metadata": {},
   "outputs": [
    {
     "data": {
      "text/plain": [
       "[('2018-05-02T12:14:50.841934+00:00',\n",
       "  'Yamana Gold Inc. (NYSE:AUY) shares are down more than -8.65% this year and recently decreased -0.70% or -$0.02 to settle at $2.85. SM Energy Company (NYSE:SM), on the other hand, is up 6.61% year to date as of 05/01/2018. It currently trades at $23.54 and has returned 3.11% during the past week. Yamana Gold Inc.…',\n",
       "  10471811.0,\n",
       "  '2018-05-02T11:06:33+00:00',\n",
       "  'stocknewsgazette.com',\n",
       "  'Energy/Materials/Stock',\n",
       "  'sm',\n",
       "  'auy/sm',\n",
       "  'Yamana Gold Inc. (AUY) vs. SM Energy Company (SM): Which is the Better Investment?',\n",
       "  'stocknewsgazette.com',\n",
       "  'https://stocknewsgazette.com/2018/05/02/yamana-gold-inc-auy-vs-sm-energy-company-sm-which-is-the-better-investment/'),\n",
       " ('2018-05-02T12:15:20.345795+00:00',\n",
       "  'AGNC Investment Corp. (NASDAQ:AGNC) shares are down more than -6.59% this year and recently decreased -0.32% or -$0.06 to settle at $18.86. B2Gold Corp. (NYSE:BTG), on the other hand, is down -9.03% year to date as of 05/01/2018. It currently trades at $2.82 and has returned -1.05% during the past week. AGNC Investment Corp. (NASDAQ:AGNC)…',\n",
       "  10471825.0,\n",
       "  '2018-05-02T11:00:01+00:00',\n",
       "  'stocknewsgazette.com',\n",
       "  'Financials/Materials/Stock',\n",
       "  'agnc',\n",
       "  'agnc/btg',\n",
       "  'AGNC Investment Corp. (AGNC) vs. B2Gold Corp. (BTG): Breaking Down the REIT - Residential Industry’s Two Hottest Stocks',\n",
       "  'stocknewsgazette.com',\n",
       "  'https://stocknewsgazette.com/2018/05/02/agnc-investment-corp-agnc-vs-b2gold-corp-btg-breaking-down-the-reit-residential-industrys-two-hottest-stocks/')]"
      ]
     },
     "execution_count": 53,
     "metadata": {},
     "output_type": "execute_result"
    }
   ],
   "source": [
    "client.execute('SELECT * FROM tiingo.news LIMIT 2')"
   ]
  },
  {
   "cell_type": "code",
   "execution_count": 54,
   "id": "7048f82d",
   "metadata": {},
   "outputs": [
    {
     "data": {
      "text/plain": [
       "[('crawlDate', 'Nullable(String)', '', '', '', '', ''),\n",
       " ('description', 'Nullable(String)', '', '', '', '', ''),\n",
       " ('id', 'Nullable(Float64)', '', '', '', '', ''),\n",
       " ('publishedDate', 'Nullable(String)', '', '', '', '', ''),\n",
       " ('source', 'Nullable(String)', '', '', '', '', ''),\n",
       " ('tags', 'Nullable(String)', '', '', '', '', ''),\n",
       " ('ticker', 'Nullable(String)', '', '', '', '', ''),\n",
       " ('tickers_all', 'Nullable(String)', '', '', '', '', ''),\n",
       " ('title', 'Nullable(String)', '', '', '', '', ''),\n",
       " ('tld', 'Nullable(String)', '', '', '', '', ''),\n",
       " ('url', 'Nullable(String)', '', '', '', '', '')]"
      ]
     },
     "execution_count": 54,
     "metadata": {},
     "output_type": "execute_result"
    }
   ],
   "source": [
    "client.execute('describe tiingo.news')"
   ]
  },
  {
   "cell_type": "markdown",
   "id": "092eebb4",
   "metadata": {},
   "source": [
    "## Filter Tiingo Data"
   ]
  },
  {
   "cell_type": "code",
   "execution_count": null,
   "id": "fbfc3456",
   "metadata": {},
   "outputs": [],
   "source": [
    "import pandas as pd\n",
    "from clickhouse_driver import Client\n",
    "\n",
    "client = Client(host=db_server_name, user=db_username, password=db_password)\n",
    "\n",
    "# TODO: other filters?\n",
    "\n",
    "# query btc news\n",
    "query = f\"\"\"\n",
    "SELECT  distinct(id) as id,\n",
    "        description,\n",
    "        tickers_all,\n",
    "        title,\n",
    "        parseDateTimeBestEffort(publishedDate) AS date \n",
    "FROM tiingo.news\n",
    "WHERE ticker = 'btc'\n",
    "\"\"\"\n",
    "\n",
    "# fetch the result directly as a pandas DataFrame directly\n",
    "news_data_df = client.query_dataframe(query)"
   ]
  },
  {
   "cell_type": "code",
   "execution_count": 7,
   "id": "e161d0a9",
   "metadata": {},
   "outputs": [
    {
     "data": {
      "application/vnd.microsoft.datawrangler.viewer.v0+json": {
       "columns": [
        {
         "name": "index",
         "rawType": "int64",
         "type": "integer"
        },
        {
         "name": "id",
         "rawType": "float64",
         "type": "float"
        },
        {
         "name": "description",
         "rawType": "object",
         "type": "string"
        },
        {
         "name": "tickers_all",
         "rawType": "object",
         "type": "string"
        },
        {
         "name": "title",
         "rawType": "object",
         "type": "string"
        },
        {
         "name": "date",
         "rawType": "datetime64[ns]",
         "type": "datetime"
        }
       ],
       "conversionMethod": "pd.DataFrame",
       "ref": "54d3266c-f771-4ed3-8311-a764c55e7028",
       "rows": [
        [
         "0",
         "46671121.0",
         "NFL legend and seven-time Super Bowl winner Tom Brady has interests and investments outside the world of football. This includes a growing interest in the world of cryptocurrency and non-fungible tokens thanks to several investments.",
         "btc/dis/dkng/nfl/pifi/twtr",
         "Touchdown Or Interception? Here's How Much An $1,000 Investment In Bitcoin Is Worth Since Tom Brady Had Laser Eyes",
         "2022-08-16 21:21:55"
        ],
        [
         "1",
         "12380290.0",
         "Piracy could cost the television and movie industries $52 billion by 2022.",
         "btc",
         "How Blockchain Can Fight Piracy",
         "2018-08-10 18:00:00"
        ],
        [
         "2",
         "26148838.0",
         "CryptoAltum, a popular MT5 platform, executes trades using market execution with all trades filled at the best available price in the market. The company uses Fill or Kill orders meaning orders are filled entirely at the best available price, with no partial fills and a 100% execution rate.",
         "bch/btc/gold/gold/ltc",
         "CryptoAltum, The CFD Trading Platform With 1:500 Leverage",
         "2020-06-23 20:00:41"
        ],
        [
         "3",
         "26168605.0",
         "If an individual was to invest $10 a week into bitcoin since 2010, the $5,130 USD would purchase 3,040 BTC, creating over $29 million.",
         "btc",
         "Average Price of Bitcoin More Than Quadrupled Between Reward Halvings",
         "2020-06-24 01:05:58"
        ],
        [
         "4",
         "26221910.0",
         "One ETH proponent noted, during the last 16 days, Ethereum users have paid more to leverage the network than Bitcoin users.",
         "bch/btc",
         "Ethereum Network Fees Jump Above Bitcoin Transaction Fees for Two Weeks Straight",
         "2020-06-24 06:33:13"
        ],
        [
         "5",
         "12381567.0",
         "DailyFX.com -Bitcoin, Ethereum, Ripple: Prices, Charts and AnalysisBitcoin (BTC) is looking to break back below $6,000.Ripple (XRP) continues to fade.",
         "btc",
         "Bitcoin & Ripple Technical Analysis - Charts Point to Further Losses",
         "2018-08-10 18:30:00"
        ],
        [
         "6",
         "11787584.0",
         "Unitus (CURRENCY:UIS) traded 1.4% lower against the dollar during the 1-day period ending at 9:00 AM ET on June 20th. One Unitus coin can currently be bought for approximately $0.0130 or 0.00000213 BTC on popular exchanges. In the last seven days, Unitus has traded 15.8% lower against the dollar. Unitus has a total market cap […]",
         "bch/btc/btg/ltc/uis",
         "Unitus Price Reaches $0.0130 on Major Exchanges (CRYPTO:UIS)",
         "2018-06-27 22:28:22"
        ],
        [
         "7",
         "31605587.0",
         "Bitcoin has been legitimized by Interest from public companies and institutional investors, and more investors view it as an effective way to hedge.",
         "amjl/btc/cs/db/dtk/jpm/jpm-ws/mstr/pypl/pyplv",
         "3 reasons why bitcoin has doubled in less than a month — and why experts think it won't repeat its 2017 crash",
         "2021-01-09 21:15:00"
        ],
        [
         "8",
         "41394997.0",
         "Gold prices have remained resilient in recent weeks in the face of broad market volatility, decoupling somewhat from its typical price drivers.",
         "bac/btc/pifi",
         "Gold has remained steady as stocks and bitcoin have plunged. Here's where it could go next",
         "2022-02-07 13:03:11"
        ],
        [
         "9",
         "41409238.0",
         "Michael Cembalest, chairman of market and investment strategy for J.P. Morgan Asset & Wealth Management said he's resisting buying any cryptocurrencies.",
         "btc/pifi",
         "Crypto valuations are the 'stuff that dreams are made of,' says J.P. Morgan asset management's Cembalest",
         "2022-02-07 22:32:52"
        ],
        [
         "10",
         "41416467.0",
         "The price of bitcoin climbed more than 6% on Monday, hitting its highest level in a month.",
         "btc/pifi",
         "Bitcoin rises to its highest level in a month, bouncing from January lows",
         "2022-02-08 03:03:47"
        ],
        [
         "11",
         "41420130.0",
         "The price of the flagship cryptocurrency bitcoin has moved past a key technical indicator after going over the $42,800 mark, where its 50-day moving average after enduring a downtrend since November of last year, when BTC hit a new high near $69,000.",
         "amzn/btc/jpm/jpm-ws/pifi",
         "Bitcoin ($BTC) Price Rises Above Key Technical Level for First Time Since November",
         "2022-02-08 06:59:21"
        ],
        [
         "12",
         "41422202.0",
         "California-based craft superfood chain Everbowl has announced it’s moving its business operations to a Bitcoin standard, in which it will be converting cash reserves into the flagship cryptocurrency.",
         "btc/pifi",
         "Superfood Chain Moving to Bitcoin Standard and Converting All Its Cash to $BTC",
         "2022-02-08 08:00:00"
        ],
        [
         "13",
         "41423548.0",
         "Popular cryptocurrency exchange FTX has announced on social media it’s giving away bitcoin as part of its Super Bowl ad campaign, but doesn’t yet know how much will be donated to those who win.",
         "btc/manu/pifi",
         "Crypto Exchange FTX to Give Away Free Bitcoin ($BTC) as Part of Super Bowl Ad",
         "2022-02-08 08:00:00"
        ],
        [
         "14",
         "13376609.0",
         "The Ethereum-based cryptocurrency, 0x (ZRX) gained over 13% on Tuesday after Coinbase exchange officially added it to its platform.",
         "btc",
         "0X (ZRX) Tests Above Ichimoku Cloud After Coinbase Listing",
         "2018-10-17 16:49:59"
        ],
        [
         "15",
         "40160333.0",
         "Here's what happened to the seized cryptocurrencies. ",
         "btc/huge/huge/opi/pifi",
         "US Gov Collects Huge Amount of BTC? Experts Say Stockpile of Cryptos are Being Auctioned",
         "2021-12-20 00:35:42"
        ],
        [
         "16",
         "15599313.0",
         "The crypto market is green today - Will we see further gains? Check our Bitcoin Price analysis and prediction.",
         "btc",
         "Bitcoin Price Prediction: The Market Sees Green, Where is it Heading?",
         "2019-03-06 01:14:34"
        ],
        [
         "17",
         "15588436.0",
         "The TRC20-based USDT will enable interoperability with TRON-based protocols and Decentralised Applications (DApps) while allowing users to transact and exchange fiat pegged currencies across the TRON Network.",
         "btc/tron/trx",
         "Tether and TRON Collaborate to Issue New Version of USDT Tokens",
         "2019-03-05 15:25:07"
        ],
        [
         "18",
         "15590420.0",
         "LGO Markets is a crypto exchange for institutional clients. The platform that offers a new approach to custody services is already alive with limited functionality and the launch of Bitcoin spot trading is scheduled for March 11.",
         "btc/dex/ice",
         "New Exchange LGO Markets Launches Offering Unusual Approach to Crypto Custody",
         "2019-03-05 18:11:29"
        ],
        [
         "19",
         "16335698.0",
         "Following their joint declaration committing to regulate crypto assets, the G20 countries are now preparing to set crypto policies at the upcoming summit. Several international organizations have contributed resources and are actively working to help shape the regulations.",
         "btc/fsb/ry",
         "G20 Prepares to Regulate Crypto Assets – a Look at Current Policies",
         "2019-04-18 19:20:56"
        ],
        [
         "20",
         "16342167.0",
         "On April 17, Panda announced the installation of its second digital currency PoS terminal at the most popular burger restaurant Darwinos.",
         "bch/btc/dai",
         "Darwinos Burger Joint Hosts Colombia’s Second Point of Sale and Crypto ATM",
         "2019-04-19 00:12:59"
        ],
        [
         "21",
         "34085277.0",
         "Bitcoin regains $50,000 heading into the end of April. ",
         "btc/btc",
         "5 things to watch in Bitcoin this week as greed and leverage get ‘flushed out’",
         "2021-04-26 17:04:23"
        ],
        [
         "22",
         "36028801.0",
         "The crypto market rejoiced in the absence of any negative news following a tense weekend as the sector increased 1.15% in the last 24 hours.",
         "btc/pifi",
         "After a sluggish weekend, major cryptocurrencies trade higher on Monday",
         "2021-07-12 17:58:12"
        ],
        [
         "23",
         "36033942.0",
         "These investments seem pretty vulnerable right now.",
         "blnk/btc/ccl/cuk/dal/didi/nclh/obtc/pifi",
         "3 Stocks to Avoid This Week",
         "2021-07-12 21:05:00"
        ],
        [
         "24",
         "36037996.0",
         "Two news items weigh on the cryptocurrencies Monday.",
         "btc/pifi",
         "Bitcoin, Dogecoin, and Ethereum Start the Week Weak",
         "2021-07-12 23:20:04"
        ],
        [
         "25",
         "36046056.0",
         "Investors aren't liking the latest monthly crypto market data.",
         "btc/coin/pifi",
         "Why Coinbase Global Stock Slumped Today",
         "2021-07-13 04:24:18"
        ],
        [
         "26",
         "14197881.0",
         "Blakecoin (CURRENCY:BLC) traded 13.9% lower against the US dollar during the 1-day period ending at 6:00 AM ET on November 12th. Blakecoin has a total market capitalization of $97,563.00 and $33.00 worth of Blakecoin was traded on exchanges in the last 24 hours. During the last seven days, Blakecoin has traded down 8.2% against the […]",
         "bch/blc/btc/btg/ltc",
         "Blakecoin (CRYPTO:BLC) Price Reaches $0.0048 on Top Exchanges",
         "2018-12-05 19:55:44"
        ],
        [
         "27",
         "14199196.0",
         "Haven Protocol (CURRENCY:XHV) traded up 2.8% against the U.S. dollar during the 24-hour period ending at 7:00 AM Eastern on November 12th. During the last week, Haven Protocol has traded 13.5% lower against the U.S. dollar. One Haven Protocol coin can currently be bought for approximately $1.01 or 0.00025800 BTC on cryptocurrency exchanges. Haven Protocol […]",
         "bch/btc/btg/ltc",
         "Haven Protocol (CRYPTO:XHV) One Day Volume Hits $152,622.00",
         "2018-12-05 20:59:18"
        ],
        [
         "28",
         "14199830.0",
         "Counterparty (CURRENCY:XCP) traded 2.9% lower against the U.S. dollar during the 24 hour period ending at 7:00 AM Eastern on November 28th. Counterparty has a total market cap of $6.44 million and $6,060.00 worth of Counterparty was traded on exchanges in the last day. One Counterparty coin can currently be purchased for $2.46 or 0.00063116 […]",
         "atb/bch/btc/trc/unb/uno",
         "Counterparty (CRYPTO:XCP) Reaches One Day Trading Volume of $6,060.00",
         "2018-12-05 21:24:36"
        ],
        [
         "29",
         "42911481.0",
         "Bitcoin fell to its lowest level this week, following Friday’s nonfarm payrolls report, which came in marginally below expectations.",
         "btc/nfp/pifi",
         "Bitcoin, Ethereum Technical Analysis: BTC Falls to 5-Day Low, as Nonfarm Payrolls Are Marginally Lower",
         "2022-04-01 22:30:40"
        ],
        [
         "30",
         "42923566.0",
         "Bitcoin has finally corrected downwards after being on a bull rally for the better part of this week. This is an expected development for a digital asset",
         "btc/pifi",
         "Why The Latest Correction Is Good For Bitcoin",
         "2022-04-02 07:00:58"
        ],
        [
         "31",
         "25673705.0",
         "At the close of Q1 on the March 31, Galaxy Digital Holdings posted a net comprehensive loss of US$27.7 million.",
         "btc/gs/gsbd/gsf/gsj",
         "Galaxy Digital results for Q1 highlights struggles",
         "2020-06-05 20:00:52"
        ],
        [
         "32",
         "25669311.0",
         "Tether is now the third biggest cryptocurrency by market cap, however, the report from Bloomberg says that USDT may surpass Ethereum.",
         "btc",
         "Tether Might Surpass Ethereum and Become Second-Largest Crypto, Says Bloomberg Report",
         "2020-06-05 17:03:02"
        ],
        [
         "33",
         "25677701.0",
         "According to the report made by CryptoCompare cryptocurrency derivatives trading volumes made a record of $602 billion in May.",
         "btc",
         "Cryptocurrency Derivatives Trading Volumes Hit $602 Billion Record in May",
         "2020-06-05 23:06:07"
        ],
        [
         "34",
         "24359014.0",
         "The conviction of one prominent Bitcoin investor has only increased over the recent crash, adding that he isn't looking to sell any of his positions.",
         "btc/pypl/pyplv",
         "Billionaire Thinks Bitcoin Can Reach a Price of “Millions”: Here’s How",
         "2020-04-07 23:20:51"
        ],
        [
         "35",
         "24353293.0",
         "It seems that ETH jump was started by Bitcoin. Now Ethereum price is above $175, it means that the altcoin has gained around 14% in 24 hours.",
         "btc/mfe",
         "Ethereum Price Jumps 14% to Move above $175",
         "2020-04-07 19:23:25"
        ],
        [
         "36",
         "24353297.0",
         "Bitcoin (BTC) price has risen above $7,350. A positive movement could continue according to the market fundamentals.",
         "btc/dow/dow/dow/tall",
         "Bitcoin (BTC) Price Is above $7,350 as Traditional Markets Move North As Well",
         "2020-04-07 19:16:51"
        ],
        [
         "37",
         "24354027.0",
         "As every crypto coin has beguns to gain momentum and is rising slowly, XRP price has gained around 8% and the coin is trading at $0.20",
         "btc",
         "XRP Price Hits $0.20 as Over 200M Coins Transferred Anonymously",
         "2020-04-07 20:36:37"
        ],
        [
         "38",
         "24361054.0",
         "Bitcoin price may increase significantly, $1 million per BTC is possible.This is what BTC investor, billionaire Chamath Palihapitiya thinks.",
         "btc",
         "Bitcoin Price May Reach $1M, Believes Billionaire, Early BTC Investor Chamath Palihapitiya",
         "2020-04-08 00:31:24"
        ],
        [
         "39",
         "32406527.0",
         "Colombia has approved nine partnerships between exchanges and national banks in order to make cryptocurrency operations more accessible.",
         "bch/btc",
         "Colombia’s Financial Superintendent Approves Nine Crypto Platforms to Work With National Banks",
         "2021-02-13 10:30:01"
        ],
        [
         "40",
         "24070551.0",
         "Novogratz said that he has been buying the dips in both gold and Bitcoin — two assets that some analysts say fit into the same umbrella of \"safe-havens\"",
         "btc/gs/gsbd/gsf/gsj",
         "Mike Novogratz:2020 Coronavirus Crisis Is the Perfect Time for Bitcoin",
         "2020-03-25 23:00:54"
        ],
        [
         "41",
         "24072121.0",
         "Changpeng \"CZ\" Zhao of Binance, who quipped that with the talk of \"trillions,\" a $100,000 BTC price is \"not such a hard to imagine number now\"",
         "btc",
         "Binance CEO Says $100,000 Bitcoin Is “Not Hard to Imagine”",
         "2020-03-26 00:11:26"
        ],
        [
         "42",
         "24066849.0",
         "Bitcoin price now is heading towards $6,800 levels, as the U.S. stock market awaits for $2 trillion help from government.",
         "btc/fb/ltc/nflx/tsla",
         "Bitcoin Price Steady at $6,500-6,700, Waits for Announced $2 Trillion Stimulus",
         "2020-03-25 20:56:17"
        ],
        [
         "43",
         "24071162.0",
         "Ethereum network co-founder Vitalik Buterin claims it's a shame that there is no an essy solutions for Bitcoin to Ethereum swaps.",
         "btc/tron/trx",
         "Ethereum Co-Founder Vitalik Buterin Wants Easy Bitcoin to Ethereum Swaps",
         "2020-03-25 23:19:32"
        ],
        [
         "44",
         "24072633.0",
         "A senior analyst at RoboForex shares his insights into the future scenarios for Bitcoin, Ethereum, Litecoin, EOS and Bitcoin Cash price movement.",
         "bch/btc/ltc",
         "Crypto Price Analysis March 25: BTC, ETH, LTC, EOS, BCH",
         "2020-03-26 00:22:14"
        ],
        [
         "45",
         "24436568.0",
         "Bitcoin price suddenly dips below $7,000 level on April 10, dragging with it the total crypto market cap below $200 billion.",
         "btc",
         "Bitcoin Price Suddenly Drops Below $7000, Crypto Market Is Now Below $200B Cap",
         "2020-04-10 22:50:34"
        ],
        [
         "46",
         "10331269.0",
         "Cryptonite (CURRENCY:XCN) traded down 8.1% against the dollar during the 24 hour period ending at 21:00 PM Eastern on April 25th. During the last week, Cryptonite has traded up 1.9% against the dollar. One Cryptonite coin can now be bought for approximately $0.0013 or 0.00000015 BTC on major cryptocurrency exchanges including FreiExchange and BX Thailand. […]",
         "bch/btc/btg/ltc",
         "Cryptonite (XCN) Market Cap Reaches $540,482.00",
         "2018-04-26 09:40:42"
        ],
        [
         "47",
         "10331297.0",
         "Nano (CURRENCY:NANO) traded 13.7% lower against the U.S. dollar during the 1 day period ending at 21:00 PM ET on April 3rd. Nano has a market cap of $910.44 million and $17.25 million worth of Nano was traded on exchanges in the last 24 hours. One Nano coin can currently be bought for $6.83 or […]",
         "bch/btc/btg/ltc/nano",
         "Nano (NANO) Reaches 24 Hour Trading Volume of $17.25 Million",
         "2018-04-26 10:13:05"
        ],
        [
         "48",
         "20651843.0",
         "Speaking to CNBC's \"Squawk Box\" panel on Thursday morning, Wall Street mogul Mike Novogratz argued that while \"he wants [Bitcoin] to hold here,\" his next downside target is $6,500",
         "btc",
         "Mike Novogratz: Wary of Bitcoin Price Drop to $6,500",
         "2019-10-25 21:30:23"
        ],
        [
         "49",
         "20651846.0",
         "Bitcoin price (BTC) and most major altcoins, including Ethereum (ETH), ripple (XRP), BCH , litecoin (LTC), BNB, XLM, ADA, EOS, and TRX might continue to struggle.",
         "btc",
         "Crypto Market Update: Bitcoin, Ethereum, XRP & EOS Price Analysis 25th Oct",
         "2019-10-25 21:22:22"
        ]
       ],
       "shape": {
        "columns": 5,
        "rows": 17341
       }
      },
      "text/html": [
       "<div>\n",
       "<style scoped>\n",
       "    .dataframe tbody tr th:only-of-type {\n",
       "        vertical-align: middle;\n",
       "    }\n",
       "\n",
       "    .dataframe tbody tr th {\n",
       "        vertical-align: top;\n",
       "    }\n",
       "\n",
       "    .dataframe thead th {\n",
       "        text-align: right;\n",
       "    }\n",
       "</style>\n",
       "<table border=\"1\" class=\"dataframe\">\n",
       "  <thead>\n",
       "    <tr style=\"text-align: right;\">\n",
       "      <th></th>\n",
       "      <th>id</th>\n",
       "      <th>description</th>\n",
       "      <th>tickers_all</th>\n",
       "      <th>title</th>\n",
       "      <th>date</th>\n",
       "    </tr>\n",
       "  </thead>\n",
       "  <tbody>\n",
       "    <tr>\n",
       "      <th>0</th>\n",
       "      <td>46671121.0</td>\n",
       "      <td>NFL legend and seven-time Super Bowl winner To...</td>\n",
       "      <td>btc/dis/dkng/nfl/pifi/twtr</td>\n",
       "      <td>Touchdown Or Interception? Here's How Much An ...</td>\n",
       "      <td>2022-08-16 21:21:55</td>\n",
       "    </tr>\n",
       "    <tr>\n",
       "      <th>1</th>\n",
       "      <td>12380290.0</td>\n",
       "      <td>Piracy could cost the television and movie ind...</td>\n",
       "      <td>btc</td>\n",
       "      <td>How Blockchain Can Fight Piracy</td>\n",
       "      <td>2018-08-10 18:00:00</td>\n",
       "    </tr>\n",
       "    <tr>\n",
       "      <th>2</th>\n",
       "      <td>26148838.0</td>\n",
       "      <td>CryptoAltum, a popular MT5 platform, executes ...</td>\n",
       "      <td>bch/btc/gold/gold/ltc</td>\n",
       "      <td>CryptoAltum, The CFD Trading Platform With 1:5...</td>\n",
       "      <td>2020-06-23 20:00:41</td>\n",
       "    </tr>\n",
       "    <tr>\n",
       "      <th>3</th>\n",
       "      <td>26168605.0</td>\n",
       "      <td>If an individual was to invest $10 a week into...</td>\n",
       "      <td>btc</td>\n",
       "      <td>Average Price of Bitcoin More Than Quadrupled ...</td>\n",
       "      <td>2020-06-24 01:05:58</td>\n",
       "    </tr>\n",
       "    <tr>\n",
       "      <th>4</th>\n",
       "      <td>26221910.0</td>\n",
       "      <td>One ETH proponent noted, during the last 16 da...</td>\n",
       "      <td>bch/btc</td>\n",
       "      <td>Ethereum Network Fees Jump Above Bitcoin Trans...</td>\n",
       "      <td>2020-06-24 06:33:13</td>\n",
       "    </tr>\n",
       "    <tr>\n",
       "      <th>...</th>\n",
       "      <td>...</td>\n",
       "      <td>...</td>\n",
       "      <td>...</td>\n",
       "      <td>...</td>\n",
       "      <td>...</td>\n",
       "    </tr>\n",
       "    <tr>\n",
       "      <th>17336</th>\n",
       "      <td>19332185.0</td>\n",
       "      <td>Whoever believes that the crypto space is all ...</td>\n",
       "      <td>btc</td>\n",
       "      <td>Crypto Warning: Hackers Are Using Browser Exte...</td>\n",
       "      <td>2019-09-17 18:06:00</td>\n",
       "    </tr>\n",
       "    <tr>\n",
       "      <th>17337</th>\n",
       "      <td>20250757.0</td>\n",
       "      <td>Mike Pompeo, United States Secretary of State,...</td>\n",
       "      <td>btc</td>\n",
       "      <td>BTC Should Be Regulated Like SWIFT And Other E...</td>\n",
       "      <td>2019-10-09 13:43:02</td>\n",
       "    </tr>\n",
       "    <tr>\n",
       "      <th>17338</th>\n",
       "      <td>33552285.0</td>\n",
       "      <td>South Africa recently accepted Mercury FX, a U...</td>\n",
       "      <td>bsv/btc</td>\n",
       "      <td>Ripple Partner Mercury FX Accepted Into ‘First...</td>\n",
       "      <td>2021-04-04 20:30:43</td>\n",
       "    </tr>\n",
       "    <tr>\n",
       "      <th>17339</th>\n",
       "      <td>33547176.0</td>\n",
       "      <td>Bitcoin price is correcting gains from $60,000...</td>\n",
       "      <td>btc</td>\n",
       "      <td>Why Bitcoin Price Could Restart Rally Unless I...</td>\n",
       "      <td>2021-04-04 12:28:50</td>\n",
       "    </tr>\n",
       "    <tr>\n",
       "      <th>17340</th>\n",
       "      <td>33557873.0</td>\n",
       "      <td>Bitcoin continues to consolidate in the high $...</td>\n",
       "      <td>btc</td>\n",
       "      <td>Supply crunch incoming? Bitcoin miners stop se...</td>\n",
       "      <td>2021-04-05 05:00:00</td>\n",
       "    </tr>\n",
       "  </tbody>\n",
       "</table>\n",
       "<p>17341 rows × 5 columns</p>\n",
       "</div>"
      ],
      "text/plain": [
       "               id                                        description  \\\n",
       "0      46671121.0  NFL legend and seven-time Super Bowl winner To...   \n",
       "1      12380290.0  Piracy could cost the television and movie ind...   \n",
       "2      26148838.0  CryptoAltum, a popular MT5 platform, executes ...   \n",
       "3      26168605.0  If an individual was to invest $10 a week into...   \n",
       "4      26221910.0  One ETH proponent noted, during the last 16 da...   \n",
       "...           ...                                                ...   \n",
       "17336  19332185.0  Whoever believes that the crypto space is all ...   \n",
       "17337  20250757.0  Mike Pompeo, United States Secretary of State,...   \n",
       "17338  33552285.0  South Africa recently accepted Mercury FX, a U...   \n",
       "17339  33547176.0  Bitcoin price is correcting gains from $60,000...   \n",
       "17340  33557873.0  Bitcoin continues to consolidate in the high $...   \n",
       "\n",
       "                      tickers_all  \\\n",
       "0      btc/dis/dkng/nfl/pifi/twtr   \n",
       "1                             btc   \n",
       "2           bch/btc/gold/gold/ltc   \n",
       "3                             btc   \n",
       "4                         bch/btc   \n",
       "...                           ...   \n",
       "17336                         btc   \n",
       "17337                         btc   \n",
       "17338                     bsv/btc   \n",
       "17339                         btc   \n",
       "17340                         btc   \n",
       "\n",
       "                                                   title                date  \n",
       "0      Touchdown Or Interception? Here's How Much An ... 2022-08-16 21:21:55  \n",
       "1                        How Blockchain Can Fight Piracy 2018-08-10 18:00:00  \n",
       "2      CryptoAltum, The CFD Trading Platform With 1:5... 2020-06-23 20:00:41  \n",
       "3      Average Price of Bitcoin More Than Quadrupled ... 2020-06-24 01:05:58  \n",
       "4      Ethereum Network Fees Jump Above Bitcoin Trans... 2020-06-24 06:33:13  \n",
       "...                                                  ...                 ...  \n",
       "17336  Crypto Warning: Hackers Are Using Browser Exte... 2019-09-17 18:06:00  \n",
       "17337  BTC Should Be Regulated Like SWIFT And Other E... 2019-10-09 13:43:02  \n",
       "17338  Ripple Partner Mercury FX Accepted Into ‘First... 2021-04-04 20:30:43  \n",
       "17339  Why Bitcoin Price Could Restart Rally Unless I... 2021-04-04 12:28:50  \n",
       "17340  Supply crunch incoming? Bitcoin miners stop se... 2021-04-05 05:00:00  \n",
       "\n",
       "[17341 rows x 5 columns]"
      ]
     },
     "execution_count": 7,
     "metadata": {},
     "output_type": "execute_result"
    }
   ],
   "source": [
    "news_data_df"
   ]
  },
  {
   "cell_type": "markdown",
   "id": "e31159e8",
   "metadata": {},
   "source": [
    "## Mistral\n",
    "https://docs.mistral.ai/capabilities/embeddings/"
   ]
  },
  {
   "cell_type": "markdown",
   "id": "5f79f56c",
   "metadata": {},
   "source": [
    "### Example"
   ]
  },
  {
   "cell_type": "code",
   "execution_count": null,
   "id": "1d40864b",
   "metadata": {},
   "outputs": [
    {
     "name": "stdout",
     "output_type": "stream",
     "text": [
      "[-0.01666259765625, 0.06982421875, 0.031494140625, 0.01284027099609375, 0.020660400390625, 0.0096435546875, 0.025787353515625, 0.0018548965454101562, -0.00867462158203125, -0.0087890625, -0.039703369140625, 0.058441162109375, -0.0255584716796875, 0.00775909423828125, -0.02886962890625, 0.0404052734375, 0.05499267578125, 0.0260162353515625, 0.03173828125, 0.023284912109375, -0.05682373046875, -0.0157470703125, -0.061614990234375, 0.01226806640625, -0.046112060546875, -0.0270538330078125, -0.00775909423828125, -0.03790283203125, -0.0401611328125, 0.0010061264038085938, 0.0238494873046875, -0.030120849609375, 0.0303497314453125, -0.002353668212890625, -0.0120391845703125, -0.036285400390625, -0.0330810546875, -0.044952392578125, 0.0133514404296875, 0.00186920166015625, 0.00969696044921875, -0.00034046173095703125, -0.0308074951171875, -0.0230560302734375, -0.024871826171875, -0.0296783447265625, 0.00447845458984375, -0.0279541015625, -0.0176849365234375, -0.0330810546875, 0.0098724365234375, 0.04974365234375, 0.034912109375, -0.01221466064453125, -0.007076263427734375, 0.031494140625, 0.03057861328125, -0.0005741119384765625, -0.045867919921875, 0.0229339599609375, -0.054779052734375, -0.0281829833984375, 0.0033817291259765625, 0.031951904296875, 0.031951904296875, -0.004764556884765625, -0.034698486328125, -0.00775909423828125, 0.0035228729248046875, 0.027618408203125, 0.047698974609375, 0.015869140625, -0.012664794921875, 0.0435791015625, -0.016326904296875, -0.06298828125, 0.01100921630859375, -0.008270263671875, 0.0029811859130859375, 0.0167694091796875, -0.0212249755859375, 0.04290771484375, 0.0826416015625, -0.03582763671875, 0.0150604248046875, -0.01055908203125, 0.04632568359375, -0.0133514404296875, 0.0023403167724609375, 0.0173492431640625, 0.0204315185546875, 0.044036865234375, 0.0011129379272460938, -0.031036376953125, 0.029449462890625, 0.0187225341796875, -0.05682373046875, -0.0164337158203125, 0.003509521484375, 0.020660400390625, 0.029449462890625, -0.03399658203125, 0.07623291015625, -0.01666259765625, 0.02545166015625, -0.0098724365234375, 0.005649566650390625, 0.005306243896484375, -0.00913238525390625, -0.026824951171875, -0.11962890625, 0.00710296630859375, -0.004878997802734375, -0.06939697265625, -0.0333251953125, -0.0094757080078125, -0.01540374755859375, 0.038116455078125, -0.08172607421875, 0.0186004638671875, 0.02191162109375, 0.0003209114074707031, -0.0220184326171875, -0.0330810546875, -0.046783447265625, -0.042449951171875, 0.0023822784423828125, 0.0174560546875, -0.0028533935546875, 0.002567291259765625, -0.031951904296875, -0.0262451171875, -0.0296783447265625, -0.043365478515625, 0.0147247314453125, -0.03607177734375, 0.0270538330078125, -0.0027523040771484375, -0.01215362548828125, -0.01232147216796875, 0.01432037353515625, -0.04656982421875, -0.00821685791015625, 0.004848480224609375, -0.025787353515625, 0.004848480224609375, -0.0181427001953125, 0.0182647705078125, -0.03173828125, -0.0004887580871582031, -0.01255035400390625, 0.03424072265625, 0.059814453125, 0.00798797607421875, -0.015289306640625, -0.0238494873046875, -0.028411865234375, 0.0265960693359375, 0.018829345703125, -0.0261383056640625, -0.0037384033203125, -0.00186920166015625, 0.00872802734375, 0.0333251953125, -0.032867431640625, -0.0296783447265625, 0.01044464111328125, 0.048614501953125, -0.041534423828125, 0.007305145263671875, 0.049285888671875, -0.010101318359375, 0.0716552734375, 0.05181884765625, -0.01415252685546875, 0.018951416015625, 0.006763458251953125, -0.007419586181640625, 0.0858154296875, 0.032196044921875, 0.0287628173828125, -0.0212249755859375, 0.0016832351684570312, -0.031036376953125, 0.0024394989013671875, -0.0037384033203125, -0.0296783447265625, 0.0296783447265625, 0.0102691650390625, 0.00339508056640625, -0.01666259765625, -0.016204833984375, -0.037445068359375, 0.019287109375, 0.01169586181640625, 0.04974365234375, 0.025909423828125, -0.04290771484375, 0.0129547119140625, -0.016204833984375, 0.029449462890625, 0.00536346435546875, -0.0208892822265625, 0.00867462158203125, 0.010894775390625, 0.0190582275390625, -0.036529541015625, 0.01129913330078125, 0.049530029296875, -0.034912109375, 0.00998687744140625, -0.00821685791015625, 0.01226806640625, -0.04473876953125, -0.01837158203125, 0.0107879638671875, 0.00969696044921875, 0.0020542144775390625, -0.044281005859375, -0.010040283203125, 0.010955810546875, -0.06707763671875, 0.004364013671875, -0.0015125274658203125, -0.025787353515625, 0.06207275390625, 0.0157470703125, -0.01123809814453125, -0.0089569091796875, -0.005077362060546875, 0.01392364501953125, 0.026702880859375, -0.0059051513671875, -0.0147247314453125, 0.0076446533203125, -0.00861358642578125, 0.06298828125, 0.04473876953125, -0.0168914794921875, 0.018829345703125, -0.00798797607421875, 0.042449951171875, 0.0102691650390625, 0.03265380859375, 0.004024505615234375, 0.007274627685546875, 0.0001327991485595703, -0.02716064453125, 0.038330078125, 0.050201416015625, -0.039031982421875, -0.01169586181640625, -0.0239715576171875, 0.0072479248046875, -0.0703125, -0.039031982421875, 0.00787353515625, -0.037200927734375, 0.042236328125, -0.041534423828125, -0.002353668212890625, 0.01123809814453125, -0.00482177734375, -0.0029964447021484375, 0.047698974609375, 0.0265960693359375, -0.0221405029296875, 0.00473785400390625, 0.0721435546875, -0.0017547607421875, 0.010894775390625, -0.01198577880859375, 0.039703369140625, 0.02532958984375, 0.033782958984375, -0.035614013671875, -0.00952911376953125, 0.005733489990234375, 0.01255035400390625, -0.00913238525390625, -0.025909423828125, 0.0279541015625, -0.00295257568359375, 0.0299072265625, -0.040863037109375, 0.0022678375244140625, -0.031036376953125, 0.034912109375, -0.034698486328125, -0.06890869140625, 0.032196044921875, 0.046112060546875, 0.0198516845703125, -0.016998291015625, -0.01198577880859375, -0.00958251953125, 0.023284912109375, 0.010040283203125, -0.007076263427734375, 0.02099609375, 0.036529541015625, -0.03240966796875, -0.015289306640625, 0.004451751708984375, 0.04315185546875, -0.034454345703125, 0.003910064697265625, -0.01221466064453125, -0.0199737548828125, -0.1287841796875, 0.0129547119140625, -0.006732940673828125, 0.0208892822265625, 0.0243072509765625, 0.0216827392578125, 0.009185791015625, -0.02362060546875, -0.024200439453125, -0.004993438720703125, -0.027496337890625, -0.05340576171875, -0.04998779296875, 0.073486328125, -0.003353118896484375, 0.0098114013671875, 0.001911163330078125, 0.036529541015625, -0.0270538330078125, 0.0173492431640625, -0.06939697265625, 0.0283050537109375, 0.022247314453125, 0.032196044921875, 0.033538818359375, 0.03582763671875, 0.0269317626953125, 0.031494140625, 0.039031982421875, -0.00775909423828125, 0.01438140869140625, -0.0111236572265625, -0.01666259765625, 0.031951904296875, -0.00844573974609375, -0.05181884765625, -0.0001773834228515625, -0.0195159912109375, 0.0019397735595703125, 0.0401611328125, -0.0176849365234375, 0.0281829833984375, -0.01461029052734375, 0.0035800933837890625, 0.0716552734375, -0.0094146728515625, 0.10272216796875, -0.0278472900390625, 0.006076812744140625, -0.004222869873046875, 0.0684814453125, -0.050445556640625, -0.00710296630859375, 0.01232147216796875, 0.01409149169921875, 0.0245361328125, 0.04107666015625, -0.0221405029296875, -0.024993896484375, -0.0239715576171875, 0.0107269287109375, -0.0204315185546875, -0.0164337158203125, 0.0079345703125, 0.0220184326171875, -0.004962921142578125, 0.037445068359375, 0.01100921630859375, -0.01284027099609375, -0.0020122528076171875, -0.01666259765625, -0.037200927734375, 0.019622802734375, 0.0262451171875, 0.00958251953125, -0.024993896484375, -0.03515625, -0.06939697265625, 0.0030803680419921875, -0.02020263671875, 0.0963134765625, 0.058441162109375, 0.042449951171875, 0.027618408203125, -0.0012264251708984375, -0.02716064453125, 0.02532958984375, 0.0085601806640625, 0.03173828125, 0.06890869140625, 0.021575927734375, 0.034698486328125, -0.044036865234375, 0.04815673828125, 0.019287109375, 0.0303497314453125, 0.0129547119140625, 0.032867431640625, 0.042236328125, 0.0308074951171875, -0.0367431640625, 0.0273895263671875, 0.05181884765625, -0.025909423828125, 0.01517486572265625, -0.0213470458984375, -0.0059051513671875, -0.040618896484375, -0.057525634765625, -0.00439453125, 0.016998291015625, 0.03582763671875, -0.036285400390625, -0.087158203125, -0.038330078125, 0.035369873046875, -0.06939697265625, 0.00362396240234375, 0.00998687744140625, -0.016326904296875, 0.01129913330078125, -0.0287628173828125, -0.053192138671875, 0.073974609375, -0.01540374755859375, 0.00362396240234375, 0.048614501953125, 0.043365478515625, -0.0679931640625, 0.018035888671875, -0.028533935546875, 0.0059356689453125, -0.01175689697265625, 0.007305145263671875, 0.049072265625, -0.0229339599609375, 0.020660400390625, 0.032196044921875, 0.051116943359375, 0.00493621826171875, -0.049530029296875, 0.032867431640625, -0.00605010986328125, -0.0208892822265625, -0.0137481689453125, 0.01044464111328125, -0.01255035400390625, -0.03790283203125, -0.00382232666015625, -0.027618408203125, 0.0247650146484375, 0.01255035400390625, 0.0167694091796875, -0.037200927734375, -0.052032470703125, -0.0207672119140625, 0.07806396484375, 0.041534423828125, 0.0634765625, 0.0157470703125, -0.058197021484375, 0.0419921875, -0.046112060546875, -0.01015472412109375, -0.0160980224609375, 0.01837158203125, -0.02374267578125, 0.037445068359375, 0.00787353515625, 0.00913238525390625, -0.0265960693359375, 0.0140380859375, -0.0024394989013671875, -0.01238250732421875, -0.01284027099609375, 0.059356689453125, 0.018035888671875, -0.06890869140625, -0.044036865234375, -0.02374267578125, -0.0102691650390625, 0.038116455078125, -0.049530029296875, -0.0235137939453125, -0.00621795654296875, -0.047943115234375, -0.0225982666015625, 0.0008559226989746094, -0.01141357421875, -0.031036376953125, 0.0102691650390625, 0.0017261505126953125, -0.01517486572265625, 0.02008056640625, 0.02716064453125, 0.0211181640625, 0.0256805419921875, -0.0008702278137207031, -0.0273895263671875, 0.042449951171875, -0.0229339599609375, -0.049072265625, -0.00470733642578125, 0.00969696044921875, 0.00701904296875, 0.0096435546875, -0.041778564453125, -0.031280517578125, -0.01277923583984375, -0.0239715576171875, -0.02178955078125, -0.0072479248046875, -0.00890350341796875, -0.046783447265625, -0.034454345703125, 0.017120361328125, 0.052734375, 0.0085601806640625, -0.015869140625, 0.052276611328125, -0.036285400390625, 0.024200439453125, -0.01454925537109375, -0.0015048980712890625, 0.03607177734375, -0.009246826171875, 0.0190582275390625, 0.0063629150390625, 0.016204833984375, -0.039947509765625, 0.02099609375, -0.06390380859375, -0.0005922317504882812, -0.0142669677734375, -0.022369384765625, -0.00164794921875, -0.041778564453125, -0.08990478515625, 0.014434814453125, 0.010894775390625, -0.003108978271484375, 0.016204833984375, -0.059356689453125, 0.0111846923828125, -0.040863037109375, -0.003509521484375, 0.03948974609375, -0.03057861328125, 0.01323699951171875, 0.003936767578125, 0.0059356689453125, 0.0260162353515625, -0.0024242401123046875, 0.039947509765625, -0.00701904296875, 0.0102691650390625, -0.060699462890625, -0.010040283203125, -0.003108978271484375, -0.0178070068359375, 0.03924560546875, -0.00992584228515625, 0.03424072265625, -0.0155181884765625, -0.0160980224609375, 0.0653076171875, 0.028533935546875, 0.0081634521484375, -0.0281829833984375, 0.01346588134765625, -0.003993988037109375, 0.007305145263671875, 0.046112060546875, -0.045867919921875, -0.0369873046875, 0.03240966796875, 0.04107666015625, 0.03790283203125, 0.01061248779296875, 0.016326904296875, 0.034912109375, -0.005336761474609375, 0.048858642578125, 0.0150604248046875, -0.018951416015625, -0.044036865234375, 0.036285400390625, 0.034454345703125, 0.01483917236328125, 0.01175689697265625, 0.033538818359375, 0.0255584716796875, -0.0008559226989746094, 0.00428009033203125, 0.0653076171875, 0.05889892578125, -0.0207672119140625, -0.040863037109375, -0.0023956298828125, 0.021453857421875, -0.0287628173828125, -0.049530029296875, 0.03399658203125, 0.02374267578125, -0.038116455078125, -0.0017976760864257812, -0.00405120849609375, -0.0015621185302734375, 0.03399658203125, 0.00861358642578125, 0.004962921142578125, 0.061614990234375, 0.014434814453125, -0.024993896484375, -0.01021575927734375, -0.035369873046875, 0.0277252197265625, 0.03399658203125, 0.00567626953125, -0.013580322265625, 0.017578125, 0.0221405029296875, 0.0233917236328125, -0.022369384765625, 0.033782958984375, 0.0150604248046875, 0.026824951171875, 0.0509033203125, 0.07073974609375, -0.02099609375, -0.02899169921875, -0.0262451171875, 0.05523681640625, 0.0111846923828125, 0.04656982421875, -0.01238250732421875, -0.001804351806640625, 0.01849365234375, -0.045196533203125, -0.01044464111328125, 0.03765869140625, 0.00975799560546875, -0.0207672119140625, -0.0308074951171875, 0.0128936767578125, 0.0006775856018066406, 0.024871826171875, 0.0013408660888671875, 0.004192352294921875, -0.0247650146484375, 0.042236328125, -0.0401611328125, -0.049285888671875, 0.0193939208984375, 0.007476806640625, -0.015869140625, -0.041778564453125, -0.03607177734375, 0.0283050537109375, -0.01226806640625, -0.06298828125, -0.03857421875, 0.04315185546875, 0.0025539398193359375, -0.04449462890625, 0.006107330322265625, 0.01021575927734375, -0.012725830078125, -0.0020122528076171875, -0.0270538330078125, 0.007305145263671875, 0.0150604248046875, -0.05340576171875, 0.0072479248046875, 0.019744873046875, 0.0034236907958984375, -0.0142669677734375, -0.0263671875, -0.032867431640625, -0.00969696044921875, 0.01192474365234375, 0.001804351806640625, -0.0176849365234375, -0.033782958984375, 0.0272674560546875, 0.029449462890625, 0.0208892822265625, -0.0247650146484375, -0.01352691650390625, -0.047698974609375, -0.0178070068359375, 0.0187225341796875, 0.0138092041015625, -0.06573486328125, 0.01495361328125, 0.06756591796875, -0.05181884765625, 0.0085601806640625, -0.006763458251953125, 0.007305145263671875, 0.0098724365234375, 0.00958251953125, -0.0128936767578125, 0.01192474365234375, 0.06756591796875, 0.00601959228515625, -0.042449951171875, 0.01061248779296875, -0.0238494873046875, 0.033782958984375, 0.00872802734375, 0.01100921630859375, -0.024871826171875, 0.037200927734375, 0.01454925537109375, -0.0173492431640625, 0.0225982666015625, -0.0753173828125, -0.0038509368896484375, 0.022369384765625, 0.03057861328125, -0.0098724365234375, 0.0272674560546875, 0.0030956268310546875, 0.004650115966796875, -0.0229339599609375, -0.007701873779296875, 0.0116424560546875, 0.010101318359375, -0.0278472900390625, -0.031951904296875, 0.00513458251953125, -0.0290985107421875, 0.00482177734375, -0.0255584716796875, 0.03240966796875, 0.007190704345703125, -0.005847930908203125, 0.0247650146484375, 0.019744873046875, 0.0142669677734375, -0.0037097930908203125, 0.0238494873046875, -0.0506591796875, 0.0287628173828125, 0.0031528472900390625, 0.005107879638671875, -0.002796173095703125, -0.01277923583984375, -0.00701904296875, 0.00890350341796875, 0.02362060546875, -0.03790283203125, 0.0367431640625, 0.035369873046875, -0.006763458251953125, -0.0098724365234375, -0.00736236572265625, -0.028533935546875, 0.05706787109375, -0.02716064453125, 0.047943115234375, -0.035369873046875, 0.0174560546875, -0.08123779296875, 0.05682373046875, 0.01415252685546875, 0.04132080078125, 0.006847381591796875, -0.0159759521484375, -0.042694091796875, -0.03924560546875, -0.0224761962890625, 0.0167694091796875, -0.00567626953125, 0.0474853515625, -0.0032958984375, -0.0369873046875, -0.006988525390625, -0.01483917236328125, 0.007160186767578125, 0.04449462890625, -0.0037937164306640625, -0.03948974609375, 0.0653076171875, -0.0265960693359375, -0.0063629150390625, -0.0159759521484375, 0.02362060546875, 0.0160980224609375, -0.006847381591796875, 0.004680633544921875, -0.03240966796875, 0.0474853515625, 0.0277252197265625, -0.032867431640625, 0.05364990234375, 0.0034942626953125, -0.0054473876953125, 0.029449462890625, -0.00753021240234375, 0.01277923583984375, 0.02362060546875, -0.00713348388671875, -0.0191650390625, -0.034912109375, -0.08172607421875, 0.0107879638671875, -0.03607177734375, -0.028076171875, 0.010894775390625, -0.00382232666015625, 0.0015401840209960938, -0.023284912109375, 0.03857421875, 0.0121002197265625, -0.0252227783203125, 0.0021114349365234375, 0.0107269287109375, -0.0330810546875, 0.04632568359375, -0.0102691650390625, -0.041778564453125, 0.02374267578125, -0.00644683837890625, -0.030120849609375, -0.007076263427734375, 0.0181427001953125, -0.0255584716796875, 0.031280517578125, -0.049530029296875, -0.032196044921875, 0.017913818359375, 0.0330810546875, 0.01461029052734375, -0.00958251953125, 0.045654296875, 0.00936126708984375, -0.0270538330078125, 0.022705078125, -0.033538818359375, -0.02532958984375, -0.0006456375122070312, 0.0001417398452758789, -0.005847930908203125, 0.0028533935546875, 0.018951416015625, 0.0138092041015625, 0.0244293212890625, -0.0264739990234375, -0.006649017333984375, 0.0193939208984375, 0.0181427001953125, 0.024200439453125, 0.03173828125, 0.03265380859375, 0.004451751708984375, -0.0155181884765625, -0.0037384033203125, -0.08673095703125, 0.00022470951080322266, -0.024078369140625, -0.0579833984375, 0.01306915283203125, 0.047027587890625, 0.057281494140625, 0.039031982421875, 0.028533935546875, 0.039703369140625, 0.03790283203125, -0.0195159912109375, -0.0333251953125, -0.033538818359375, 0.00252532958984375, -0.0015401840209960938, 0.01146697998046875, -0.06890869140625, 0.0182647705078125, 0.05889892578125, -0.025909423828125, -0.038787841796875, 0.0239715576171875, 0.040863037109375, 0.07440185546875, 0.037200927734375, -0.00020778179168701172, -0.04998779296875, 0.00907135009765625, 0.0263671875, 0.003238677978515625, -0.0142059326171875, 0.0022106170654296875, 0.0111236572265625, 0.050445556640625, -0.044281005859375, -0.004108428955078125, -0.0264739990234375, 0.061614990234375, 0.004108428955078125, -0.06207275390625, -0.015869140625, 0.02020263671875, -0.00273895263671875, -0.010498046875, -0.005733489990234375, 0.044036865234375, -0.03173828125, 0.01061248779296875, 0.01352691650390625, 0.00405120849609375, 0.07666015625, 0.00559234619140625, -0.0046234130859375, 0.003765106201171875, 0.0283050537109375, 0.0195159912109375, -0.039703369140625, -0.037200927734375, -0.0133514404296875, -0.0404052734375, 0.060699462890625, -0.0026683807373046875, 0.022369384765625, 0.02362060546875, -0.029449462890625, 0.01495361328125, 0.0076446533203125, 0.0634765625, 0.01415252685546875, 0.0239715576171875, 0.0299072265625, -0.029449462890625, -0.0029239654541015625, 0.01837158203125, 0.002368927001953125, 0.00556182861328125, -0.0265960693359375, -0.00844573974609375, -0.04998779296875, 0.018035888671875, 0.0028667449951171875, -0.0261383056640625, 0.0239715576171875, -0.00907135009765625, 0.01221466064453125, -0.0277252197265625, -0.0137481689453125, 0.01107025146484375, 0.017120361328125, -0.0367431640625, 0.0199737548828125, 0.01432037353515625, 0.0030803680419921875, -0.0211181640625, -0.08355712890625, 0.038330078125, 0.019744873046875, 0.01226806640625, 0.0157470703125, -0.0019969940185546875, 0.04815673828125, -0.019287109375, -0.01483917236328125, 0.00907135009765625, 0.00513458251953125, 0.020538330078125, 0.0187225341796875, 0.016326904296875, -0.04632568359375, 0.010101318359375, 0.0072479248046875, -0.03924560546875, 0.004848480224609375, 0.05499267578125, 0.017913818359375, 0.036529541015625, 0.0142669677734375, -0.00567626953125, -0.0753173828125, 0.041778564453125, 0.00605010986328125, -0.02362060546875, -0.0015621185302734375, -0.0172271728515625, 0.005733489990234375, -0.01129913330078125, 0.06298828125, -0.0251007080078125, 0.0404052734375, 0.0098724365234375, 0.03924560546875, -0.01226806640625, 0.00396728515625, -0.015869140625, 0.0401611328125, 0.0299072265625, 0.05181884765625, 0.01129913330078125, -0.01517486572265625, -0.0684814453125, -0.0014410018920898438, -0.00952911376953125, 0.006420135498046875, 0.02716064453125, -0.055908203125, 0.0017614364624023438, 0.03607177734375, 0.0648193359375, 0.0023956298828125, -0.002410888671875, 0.056610107421875, 0.01261138916015625, -0.0281829833984375, 0.00424957275390625, -0.037200927734375]\n",
      "length of embedding: 1024\n"
     ]
    }
   ],
   "source": [
    "from mistralai import Mistral\n",
    "\n",
    "api_key = credentials['api_key']['mistral']\n",
    "mistral_client = Mistral(api_key=api_key)\n",
    "\n",
    "model = \"mistral-embed\"\n",
    "text = \"Embed this sentence.\"\n",
    "\n",
    "embeddings_batch_response= mistral_client.embeddings.create(\n",
    "    model=model,\n",
    "    inputs=text,\n",
    ")\n",
    "\n",
    "print(embeddings_batch_response.data[0].embedding)\n",
    "print('length of embedding:', len(embeddings_batch_response.data[0].embedding))"
   ]
  },
  {
   "cell_type": "code",
   "execution_count": 23,
   "id": "cae8dc34",
   "metadata": {},
   "outputs": [],
   "source": [
    "from mistralai import Mistral\n",
    "import time\n",
    "from tqdm import tqdm\n",
    "\n",
    "def run_mistral_embedding(df: pd.DataFrame, api_key, model: str = 'mistral-embed', batch_size: int = 10) -> None:\n",
    "    mistral_client = Mistral(api_key=api_key)\n",
    "\n",
    "    # Initialize new column\n",
    "    df['mistral_embedding'] = None\n",
    "\n",
    "    # Process in batches\n",
    "    for start_idx in tqdm(range(0, len(df), batch_size)):\n",
    "        end_idx = min(start_idx + batch_size, len(df))\n",
    "        batch_texts = df.loc[start_idx:end_idx - 1, 'description'].tolist()\n",
    "\n",
    "        embeddings_batch_response = mistral_client.embeddings.create(\n",
    "            model=model,\n",
    "            inputs=batch_texts,\n",
    "        )\n",
    "\n",
    "        # Write result embeddings values to df\n",
    "        for i, embedding in enumerate(embeddings_batch_response.data):\n",
    "            df.loc[start_idx + i, 'mistral_embedding'] = str(embedding.embedding)\n",
    "\n",
    "        # request rate is limited, mistral is annoying\n",
    "        time.sleep(2)"
   ]
  },
  {
   "cell_type": "code",
   "execution_count": null,
   "id": "bee4fd06",
   "metadata": {},
   "outputs": [],
   "source": [
    "api_key = credentials['api_key']['mistral']\n",
    "run_mistral_embedding(news_data_df, api_key=api_key, model='mistral-embed')"
   ]
  },
  {
   "cell_type": "code",
   "execution_count": null,
   "id": "3b218ca1",
   "metadata": {},
   "outputs": [],
   "source": []
  }
 ],
 "metadata": {
  "kernelspec": {
   "display_name": "Python 3",
   "language": "python",
   "name": "python3"
  },
  "language_info": {
   "codemirror_mode": {
    "name": "ipython",
    "version": 3
   },
   "file_extension": ".py",
   "mimetype": "text/x-python",
   "name": "python",
   "nbconvert_exporter": "python",
   "pygments_lexer": "ipython3",
   "version": "3.9.21"
  }
 },
 "nbformat": 4,
 "nbformat_minor": 5
}
